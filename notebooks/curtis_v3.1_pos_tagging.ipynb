{
 "cells": [
  {
   "cell_type": "code",
   "execution_count": 6,
   "metadata": {},
   "outputs": [],
   "source": [
    "import re\n",
    "import nltk\n",
    "import regex\n",
    "import pandas as pd\n",
    "import numpy as np\n",
    "import multiprocessing as mp\n",
    "import time\n",
    "import tqdm"
   ]
  },
  {
   "cell_type": "code",
   "execution_count": 7,
   "metadata": {},
   "outputs": [],
   "source": [
    "def get_pos_tags():\n",
    "    # helper function for reading text files\n",
    "    train_text = train[\"comment_text\"]\n",
    "    test_text = test[\"comment_text\"]\n",
    "\n",
    "\n",
    "    # fill in missing\n",
    "    train_text[train_text.map(len)<=1] = 'neutral'\n",
    "    test_text[test_text.map(len)<=1] = 'neutral'\n",
    "\n",
    "    # map to pos\n",
    "    def get_pos(x):\n",
    "      tokens = nltk.tokenize.word_tokenize(x)\n",
    "      tags = nltk.pos_tag(tokens)\n",
    "      _, pos = zip(*tags) \n",
    "      return ' '.join(pos)\n",
    "\n",
    "    print(\"--- creating train pos\")\n",
    "    start_time = time.time()\n",
    "    if __name__ == '__main__':\n",
    "       with mp.Pool(10) as p:\n",
    "          train_pos = list(tqdm.tqdm(p.imap(get_pos, train_text), total=30))\n",
    "    print(\"--- Finished Loading %s\" % (time.time() - start_time))\n",
    "\n",
    "    print(\"--- creating test pos\")\n",
    "    start_time = time.time()\n",
    "    if __name__ == '__main__':\n",
    "       with mp.Pool(10) as p:\n",
    "          test_pos = list(tqdm.tqdm(p.imap(get_pos, test_text), total=30))\n",
    "    print(\"--- Finished Loading %s\" % (time.time() - start_time))"
   ]
  },
  {
   "cell_type": "code",
   "execution_count": 8,
   "metadata": {},
   "outputs": [],
   "source": [
    "SMALL_DATA = False\n",
    "GEN_POS_TAGS = False\n",
    "train = pd.DataFrame()\n",
    "test = pd.DataFrame()\n",
    "if GEN_POS_TAGS:\n",
    "    print(\"--- Loading Files\")\n",
    "    start_time = time.time()\n",
    "    train = pd.read_hdf('../input/train.h5')\n",
    "    test = pd.read_hdf('../input/test.h5')\n",
    "    print(\"--- Finished Loading %s\" % (time.time() - start_time))\n",
    "    gen_pos_tags()\n",
    "    # save the tags\n",
    "    pd.DataFrame({'pos':train_pos}).to_hdf('../input/train_pos.h5',key='train_pos')\n",
    "    pd.DataFrame({'pos':test_pos}).to_hdf('../input/test_pos.h5',key='test_pos')\n",
    "else:\n",
    "    train = pd.read_hdf('../input/train_pos.h5')\n",
    "    test = pd.read_hdf('../input/test_pos.h5')\n",
    "if SMALL_DATA:\n",
    "    print(\"Using small data\")\n",
    "    train = train[:100]\n",
    "    test = test[:100]"
   ]
  },
  {
   "cell_type": "code",
   "execution_count": null,
   "metadata": {},
   "outputs": [],
   "source": []
  },
  {
   "cell_type": "code",
   "execution_count": null,
   "metadata": {},
   "outputs": [],
   "source": []
  },
  {
   "cell_type": "code",
   "execution_count": null,
   "metadata": {},
   "outputs": [],
   "source": []
  },
  {
   "cell_type": "code",
   "execution_count": null,
   "metadata": {},
   "outputs": [],
   "source": []
  },
  {
   "cell_type": "code",
   "execution_count": null,
   "metadata": {},
   "outputs": [],
   "source": []
  },
  {
   "cell_type": "code",
   "execution_count": null,
   "metadata": {},
   "outputs": [],
   "source": []
  },
  {
   "cell_type": "code",
   "execution_count": null,
   "metadata": {},
   "outputs": [],
   "source": []
  }
 ],
 "metadata": {
  "kernelspec": {
   "display_name": "Python 3",
   "language": "python",
   "name": "python3"
  },
  "language_info": {
   "codemirror_mode": {
    "name": "ipython",
    "version": 3
   },
   "file_extension": ".py",
   "mimetype": "text/x-python",
   "name": "python",
   "nbconvert_exporter": "python",
   "pygments_lexer": "ipython3",
   "version": "3.7.0"
  }
 },
 "nbformat": 4,
 "nbformat_minor": 2
}

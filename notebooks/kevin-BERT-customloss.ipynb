{
 "cells": [
  {
   "cell_type": "code",
   "execution_count": 1,
   "metadata": {},
   "outputs": [],
   "source": [
    "%%capture\n",
    "import sys\n",
    "! pip install -v --no-cache-dir --global-option=\"--cpp_ext\" --global-option=\"--cuda_ext\" ../input/nvidiaapex/repository/NVIDIA-apex-39e153a\n",
    "sys.path.append(\"../input/ppbert/pytorch-pretrained-bert/pytorch-pretrained-BERT\")\n",
    "sys.path.append(\"../input/nvidiaapex/repository/NVIDIA-apex-39e153a\")"
   ]
  },
  {
   "cell_type": "code",
   "execution_count": 2,
   "metadata": {},
   "outputs": [],
   "source": [
    "import numpy as np\n",
    "import pandas as pd\n",
    "from tqdm._tqdm_notebook import tqdm_notebook as tqdm\n",
    "from torch.utils import data\n",
    "#from tqdm import tqdm_notebook as tqdm\n",
    "\n",
    "import random\n",
    "import os\n",
    "\n",
    "import torch\n",
    "import torch.utils.data\n",
    "import torch.nn as nn\n",
    "from apex import amp\n",
    "from pytorch_pretrained_bert import BertTokenizer, BertAdam, BertConfig, convert_tf_checkpoint_to_pytorch, BertForSequenceClassification"
   ]
  },
  {
   "cell_type": "code",
   "execution_count": 3,
   "metadata": {},
   "outputs": [],
   "source": [
    "BERT_MODEL_PATH = '../input/bert-pretrained-models/uncased_l-12_h-768_a-12/uncased_L-12_H-768_A-12/'\n",
    "MAX_SEQUENCE_LENGTH = 220\n",
    "\n",
    "Data_dir=\"../input/jigsaw-unintended-bias-in-toxicity-classification\"\n",
    "Input_dir = \"../input\"\n",
    "WORK_DIR = \"../working/\"\n",
    "TOXICITY_COLUMN = 'target'\n",
    "output_model_file = \"bert_pytorch.bin\"\n",
    "\n",
    "EPOCHS = 1\n",
    "checkpoint_weights = [1, 2, 4][:EPOCHS]\n",
    "lr=2e-5\n",
    "batch_size = 8\n",
    "accumulation_steps=4"
   ]
  },
  {
   "cell_type": "code",
   "execution_count": 4,
   "metadata": {},
   "outputs": [],
   "source": [
    "bert_config = BertConfig('../input/bert-pretrained-models/uncased_l-12_h-768_a-12/uncased_L-12_H-768_A-12/'+'bert_config.json')\n",
    "device=torch.device('cuda')\n",
    "tqdm.pandas()"
   ]
  },
  {
   "cell_type": "code",
   "execution_count": 5,
   "metadata": {},
   "outputs": [],
   "source": [
    "train = pd.read_csv('../input/jigsaw-unintended-bias-in-toxicity-classification/train.csv')\n",
    "test = pd.read_csv('../input/jigsaw-unintended-bias-in-toxicity-classification/test.csv')"
   ]
  },
  {
   "cell_type": "code",
   "execution_count": 6,
   "metadata": {},
   "outputs": [],
   "source": [
    "#train['binned_target'] = pd.cut(train['target'], [0, 0.25, 0.5, 0.75, 1.1], right=False, labels=[1, 2, 3, 4])"
   ]
  },
  {
   "cell_type": "code",
   "execution_count": 7,
   "metadata": {},
   "outputs": [],
   "source": [
    "# train1 = train[train['binned_target'] == 1]#.sample(n=38368, random_state=123)\n",
    "# train2 = train[train['binned_target'] == 2]#.sample(n=105966, random_state=123)\n",
    "# train3 = train[train['binned_target'] == 3]\n",
    "# train4 = train[train['binned_target'] == 4]\n",
    "\n",
    "# train1 = train1.sample(n=len(train1)//2, random_state=1234)\n",
    "# train2 = train2.sample(n=len(train2)//2, random_state=1234)\n",
    "# train3 = train3.sample(n=len(train3), random_state=1234)\n",
    "# train4 = train4.sample(n=len(train4), random_state=1234)\n",
    "\n",
    "# #train = pd.concat([train1, train2, train3, train4])\n",
    "\n",
    "# train = train.sample(n=len(train)//2, random_state=123)"
   ]
  },
  {
   "cell_type": "code",
   "execution_count": 8,
   "metadata": {},
   "outputs": [],
   "source": [
    "%%capture\n",
    "convert_tf_checkpoint_to_pytorch.convert_tf_checkpoint_to_pytorch(\n",
    "    BERT_MODEL_PATH + 'bert_model.ckpt',\n",
    "    BERT_MODEL_PATH + 'bert_config.json',\n",
    "    WORK_DIR + 'pytorch_model.bin')"
   ]
  },
  {
   "cell_type": "code",
   "execution_count": 9,
   "metadata": {},
   "outputs": [],
   "source": [
    "def seed_everything(seed=123):\n",
    "    random.seed(seed)\n",
    "    os.environ['PYTHONHASHSEED'] = str(seed)\n",
    "    np.random.seed(seed)\n",
    "    torch.manual_seed(seed)\n",
    "    torch.cuda.manual_seed(seed)\n",
    "    torch.backends.cudnn.deterministic = True\n",
    "seed_everything()"
   ]
  },
  {
   "cell_type": "code",
   "execution_count": 10,
   "metadata": {},
   "outputs": [],
   "source": [
    "def preprocess(x, token_length, tokenizer):\n",
    "    tokens_a = tokenizer.tokenize(x)[:token_length]\n",
    "    one_token = tokenizer.convert_tokens_to_ids([\"[CLS]\"]+tokens_a+[\"[SEP]\"])+[0] * (token_length - len(tokens_a))\n",
    "    return np.array(one_token)"
   ]
  },
  {
   "cell_type": "code",
   "execution_count": null,
   "metadata": {},
   "outputs": [
    {
     "data": {
      "application/vnd.jupyter.widget-view+json": {
       "model_id": "4d7ae508eb77478198d109959f47aee7",
       "version_major": 2,
       "version_minor": 0
      },
      "text/plain": [
       "HBox(children=(IntProgress(value=0, max=1804874), HTML(value='')))"
      ]
     },
     "metadata": {},
     "output_type": "display_data"
    }
   ],
   "source": [
    "tokenizer = BertTokenizer.from_pretrained(BERT_MODEL_PATH, cache_dir=None,do_lower_case=True)\n",
    "\n",
    "x_train = train['comment_text'].progress_apply(lambda x:preprocess(x, MAX_SEQUENCE_LENGTH-2, tokenizer))\n",
    "x_test = test['comment_text'].progress_apply(lambda x:preprocess(x, MAX_SEQUENCE_LENGTH-2, tokenizer))\n",
    "\n",
    "x_train.reset_index(drop=True, inplace=True)\n",
    "x_test.reset_index(drop=True, inplace=True)\n",
    "\n",
    "identity_columns = ['severe_toxicity', 'obscene', 'identity_attack', 'insult', 'threat', 'sexual_explicit']\n",
    "y_aux_train = train[identity_columns]"
   ]
  },
  {
   "cell_type": "code",
   "execution_count": null,
   "metadata": {},
   "outputs": [],
   "source": [
    "# x_train = tokenizer.texts_to_sequences(x_train)\n",
    "# x_test = tokenizer.texts_to_sequences(x_test)\n",
    "# lengths = torch.from_numpy(np.array([len(x) for x in x_train]))\n",
    "# maxlen = 300 \n",
    "# x_train_padded = torch.from_numpy(sequence.pad_sequences(x_train, maxlen=maxlen))\n",
    "# x_train_padded.shape"
   ]
  },
  {
   "cell_type": "code",
   "execution_count": null,
   "metadata": {},
   "outputs": [],
   "source": [
    "# test_lengths = torch.from_numpy(np.array([len(x) for x in x_test]))\n",
    "# x_test_padded = torch.from_numpy(sequence.pad_sequences(x_test, maxlen=maxlen))"
   ]
  },
  {
   "cell_type": "code",
   "execution_count": null,
   "metadata": {},
   "outputs": [],
   "source": [
    "# class SequenceBucketCollator():\n",
    "#     def __init__(self, choose_length, sequence_index, length_index, label_index=None):\n",
    "#         self.choose_length = choose_length\n",
    "#         self.sequence_index = sequence_index\n",
    "#         self.length_index = length_index\n",
    "#         self.label_index = label_index\n",
    "        \n",
    "#     def __call__(self, batch):\n",
    "#         batch = [torch.stack(x) for x in list(zip(*batch))]\n",
    "        \n",
    "#         sequences = batch[self.sequence_index]\n",
    "#         lengths = batch[self.length_index]\n",
    "        \n",
    "#         length = self.choose_length(lengths)\n",
    "#         mask = torch.arange(start=maxlen, end=0, step=-1) < length\n",
    "#         padded_sequences = sequences[:, mask]\n",
    "        \n",
    "#         batch[self.sequence_index] = padded_sequences #BERT tokenize this\n",
    "        \n",
    "#         if self.label_index is not None:\n",
    "#             return [x for i, x in enumerate(batch) if i != self.label_index], batch[self.label_index]\n",
    "    \n",
    "#         return batch"
   ]
  },
  {
   "cell_type": "code",
   "execution_count": null,
   "metadata": {},
   "outputs": [],
   "source": [
    "# Overall\n",
    "weights = np.ones((len(x_train),)) / 4\n",
    "\n",
    "# Subgroup\n",
    "weights += (train[identity_columns].fillna(0).values>=0.5).sum(axis=1).astype(bool).astype(np.int) / 4\n",
    "\n",
    "# Background Positive, Subgroup Negative\n",
    "weights += (((train['target'].values>=0.5).astype(bool).astype(np.int) +\n",
    "   (train[identity_columns].fillna(0).values<0.5).sum(axis=1).astype(bool).astype(np.int) ) > 1 ).astype(bool).astype(np.int) / 4\n",
    "\n",
    "# Background Negative, Subgroup Positive\n",
    "weights += (( (train['target'].values<0.5).astype(bool).astype(np.int) +\n",
    "   (train[identity_columns].fillna(0).values>=0.5).sum(axis=1).astype(bool).astype(np.int) ) > 1 ).astype(bool).astype(np.int) / 4\n",
    "\n",
    "def custom_loss(data, targets):\n",
    "    ''' Define custom loss function for weighted BCE on 'target' column '''\n",
    "    bce_loss_1 = nn.BCEWithLogitsLoss(weight=targets[:,1:2])(data[:,:1],targets[:,:1])\n",
    "    bce_loss_2 = nn.BCEWithLogitsLoss()(data[:,1:],targets[:,2:])\n",
    "    return (bce_loss_1 * loss_weight) + bce_loss_2"
   ]
  },
  {
   "cell_type": "code",
   "execution_count": null,
   "metadata": {},
   "outputs": [],
   "source": [
    "loss_weight = 1.0 / weights.mean()\n",
    "y_train = np.vstack([(train['target'].values>=0.5), weights]).T"
   ]
  },
  {
   "cell_type": "code",
   "execution_count": null,
   "metadata": {},
   "outputs": [],
   "source": [
    "model = BertForSequenceClassification(bert_config,num_labels=len(identity_columns) + 1)\n",
    "model.zero_grad()\n",
    "model = model.to(device)\n",
    "param_optimizer = list(model.named_parameters())\n",
    "no_decay = ['bias', 'LayerNorm.bias', 'LayerNorm.weight']\n",
    "optimizer_grouped_parameters = [\n",
    "    {'params': [p for n, p in param_optimizer if not any(nd in n for nd in no_decay)], 'weight_decay': 0.01},\n",
    "    {'params': [p for n, p in param_optimizer if any(nd in n for nd in no_decay)], 'weight_decay': 0.0}\n",
    "]"
   ]
  },
  {
   "cell_type": "code",
   "execution_count": null,
   "metadata": {},
   "outputs": [],
   "source": [
    "num_train_optimization_steps = int(EPOCHS*len(train)/batch_size/accumulation_steps)\n",
    "optimizer = BertAdam(optimizer_grouped_parameters,\n",
    "                     lr=lr,\n",
    "                     warmup=0.05,\n",
    "                     t_total=num_train_optimization_steps)\n",
    "\n",
    "model, optimizer = amp.initialize(model, optimizer, opt_level=\"O1\",verbosity=0)\n",
    "model = model.train()"
   ]
  },
  {
   "cell_type": "code",
   "execution_count": null,
   "metadata": {},
   "outputs": [],
   "source": [
    "class LenMatchBatchSampler(data.BatchSampler):\n",
    "    def __iter__(self):\n",
    "\n",
    "        buckets = [[]] * 100\n",
    "        yielded = 0\n",
    "\n",
    "        for idx in self.sampler:\n",
    "            count_zeros = torch.sum(self.sampler.data_source[idx][0] == 0)\n",
    "            count_zeros = int(count_zeros / 64) \n",
    "            if len(buckets[count_zeros]) == 0:  buckets[count_zeros] = []\n",
    "\n",
    "            buckets[count_zeros].append(idx)\n",
    "\n",
    "            if len(buckets[count_zeros]) == self.batch_size:\n",
    "                batch = list(buckets[count_zeros])\n",
    "                yield batch\n",
    "                yielded += 1\n",
    "                buckets[count_zeros] = []\n",
    "\n",
    "        batch = []\n",
    "        leftover = [idx for bucket in buckets for idx in bucket]\n",
    "\n",
    "        for idx in leftover:\n",
    "            batch.append(idx)\n",
    "            if len(batch) == self.batch_size:\n",
    "                yielded += 1\n",
    "                yield batch\n",
    "                batch = []\n",
    "\n",
    "        if len(batch) > 0 and not self.drop_last:\n",
    "            yielded += 1\n",
    "            yield batch\n",
    "\n",
    "        assert len(self) == yielded, \"produced an inccorect number of batches. expected %i, but yielded %i\" %(len(self), yielded)\n",
    "\n",
    "def trim_tensors(tsrs):\n",
    "    max_len = torch.max(torch.sum( (tsrs[0] != 0  ), 1))\n",
    "    if max_len > 2: \n",
    "        tsrs = [tsr[:, :max_len] for tsr in tsrs]\n",
    "    return tsrs "
   ]
  },
  {
   "cell_type": "code",
   "execution_count": null,
   "metadata": {},
   "outputs": [],
   "source": [
    "tq = tqdm(range(EPOCHS))\n",
    "training_dataset = torch.utils.data.TensorDataset(torch.tensor(x_train, dtype=torch.long), torch.tensor(np.hstack([y_train, y_aux_train]),dtype=torch.float))\n",
    "testing_dataset = torch.utils.data.TensorDataset(torch.tensor(x_test, dtype=torch.long))\n",
    "#train_collator = SequenceBucketCollator(lambda lengths: lengths.max(), sequence_index=0, length_index=1, label_index=2)\n",
    "#test_collator = SequenceBucketCollator(lambda lengths: lengths.max(), sequence_index=0, length_index=1)\n",
    "\n",
    "test_loader = train_loader = torch.utils.data.DataLoader(testing_dataset, batch_size=batch_size, shuffle=False)\n",
    "\n",
    "all_test_preds = []\n",
    "\n",
    "\n",
    "for epoch in tq:\n",
    "    #train_loader = torch.utils.data.DataLoader(training_dataset, batch_size=batch_size, shuffle=True, collate_fn=train_collator)\n",
    "    avg_loss = 0.\n",
    "    avg_accuracy = 0.\n",
    "    lossf=None\n",
    "    \n",
    "    ran_sampler = data.RandomSampler(training_dataset)\n",
    "    len_sampler = LenMatchBatchSampler(ran_sampler, batch_size = 16, drop_last = False)\n",
    "    train_loader = torch.utils.data.DataLoader(training_dataset, batch_sampler = len_sampler) \n",
    "    \n",
    "    tk0 = tqdm(enumerate(train_loader),total=len(train_loader),leave=False)\n",
    "    for i, (x_batch, y_batch) in tk0:\n",
    "        optimizer.zero_grad()\n",
    "        \n",
    "        #tsrs = trim_tensors(batch)\n",
    "        #x_batch, b_input_mask, b_segment_ids, y_batch = tuple(t.to(device) for t in tsrs)\n",
    "        \n",
    "        y_pred = model(x_batch.to(device), attention_mask=(x_batch>0).to(device), labels=None)\n",
    "        loss =  custom_loss(y_pred,y_batch.to(device))\n",
    "        with amp.scale_loss(loss, optimizer) as scaled_loss:\n",
    "            scaled_loss.backward()\n",
    "        if (i+1) % accumulation_steps == 0:             # Wait for several backward steps\n",
    "            optimizer.step()                            # Now we can do an optimizer step\n",
    "            optimizer.zero_grad()\n",
    "        if lossf:\n",
    "            lossf = 0.98*lossf+0.02*loss.item()\n",
    "        else:\n",
    "            lossf = loss.item()\n",
    "        tk0.set_postfix(loss = lossf)\n",
    "        avg_loss += loss.item() / len(train_loader)\n",
    "        avg_accuracy += torch.mean(((torch.sigmoid(y_pred[:,0])>0.5) == (y_batch[:,0]>0.5).to(device)).to(torch.float) ).item()/len(train_loader)\n",
    "    \n",
    "    test_preds = np.zeros((len(test), len(['target'] + identity_columns)))\n",
    "    tk1 = tqdm(enumerate(test_loader),total=len(test_loader),leave=False)\n",
    "    for i, x_batch in tk1:\n",
    "        X = x_batch[0].cuda()\n",
    "        y_pred = model(torch.tensor(X)).detach().cpu().numpy()\n",
    "        test_preds[i * batch_size:(i+1) * batch_size, :] = y_pred\n",
    "        \n",
    "    all_test_preds.append(test_preds)\n",
    "    tq.set_postfix(avg_loss=avg_loss,avg_accuracy=avg_accuracy)\n",
    "\n",
    "#final_pred = np.average(all_test_preds, weights=checkpoint_weights, axis=0)  \n",
    "final_pred = all_test_preds[0]\n",
    "\n",
    "torch.save(model.state_dict(), output_model_file)"
   ]
  },
  {
   "cell_type": "code",
   "execution_count": null,
   "metadata": {},
   "outputs": [],
   "source": [
    "submission = pd.DataFrame.from_dict({\n",
    "    'id': test['id'],\n",
    "    'prediction': final_pred[:, 0],\n",
    "})\n",
    "submission.to_csv('submission.csv', index=False)"
   ]
  }
 ],
 "metadata": {
  "kernelspec": {
   "display_name": "Python 3",
   "language": "python",
   "name": "python3"
  },
  "language_info": {
   "codemirror_mode": {
    "name": "ipython",
    "version": 3
   },
   "file_extension": ".py",
   "mimetype": "text/x-python",
   "name": "python",
   "nbconvert_exporter": "python",
   "pygments_lexer": "ipython3",
   "version": "3.6.4"
  }
 },
 "nbformat": 4,
 "nbformat_minor": 1
}

{
 "cells": [
  {
   "cell_type": "code",
   "execution_count": null,
   "metadata": {},
   "outputs": [],
   "source": [
    "# Put these at the top of every notebook, to get automatic reloading and inline plotting\n",
    "\n",
    "#%reload_ext autoreload\n",
    "#%autoreload 2\n",
    "%matplotlib inline\n",
    "\n",
    "import fastai\n",
    "from fastai.train import Learner\n",
    "from fastai.train import DataBunch\n",
    "from fastai.callbacks import *\n",
    "from fastai.basic_data import DatasetType\n",
    "import fastprogress\n",
    "from fastprogress import force_console_behavior\n",
    "import numpy as np\n",
    "from pprint import pprint\n",
    "import pandas as pd\n",
    "import time\n",
    "\n",
    "\n",
    "import gc\n",
    "from tqdm._tqdm_notebook import tqdm_notebook as tqdm\n",
    "from keras.preprocessing import text, sequence\n",
    "import torch\n",
    "from torch import nn\n",
    "from torch.utils import data\n",
    "from torch.nn import functional as F\n",
    "from sklearn.metrics import roc_auc_score\n",
    "from sklearn.model_selection import KFold, StratifiedKFold\n",
    "notebook_start_time = time.time()\n",
    "tqdm.pandas() # for progress_apply\n",
    "\n",
    "\"\"\"from jig_utils import (JigsawEvaluator,seed_everything, get_coefs, load_embeddings,\n",
    "                       make_weights_dir, sigmoid, SpatialDropout, save_model_stats,\n",
    "                       SequenceBucketCollator)\"\"\"\n",
    "\n",
    "from jig_utils import seed_everything\n",
    "\n",
    "seed_everything(123)"
   ]
  },
  {
   "cell_type": "code",
   "execution_count": null,
   "metadata": {},
   "outputs": [],
   "source": [
    "bert_stacking = np.load('bert_stacking_train.npy')\n",
    "lstm_stacking = np.load('lstm_stacking_train.npy')"
   ]
  },
  {
   "cell_type": "code",
   "execution_count": null,
   "metadata": {},
   "outputs": [],
   "source": [
    "train_x = bert_stacking[:,0]\n",
    "train_x = np.c_[train_x, lstm_stacking[:,0]]\n",
    "train_y = bert_stacking[:,1] # we also need the aux targets!"
   ]
  },
  {
   "cell_type": "code",
   "execution_count": null,
   "metadata": {},
   "outputs": [],
   "source": [
    "DENSE_HIDDEN_UNITS = 8\n",
    "NUM_DENSE_EPOCHS = 5\n",
    "NUM_DENSE_MODELS = 2"
   ]
  },
  {
   "cell_type": "code",
   "execution_count": null,
   "metadata": {},
   "outputs": [],
   "source": [
    "class DenseNeuralNet(nn.Module, num_aux_targets):\n",
    "    def __init__(self):\n",
    "        super(DenseNeuralNet, self).__init__()\n",
    "        self.hidden_dropout = Dropout(0.3)\n",
    "    \n",
    "        self.linear1 = nn.Linear(DENSE_HIDDEN_UNITS, DENSE_HIDDEN_UNITS)\n",
    "        self.linear2 = nn.Linear(DENSE_HIDDEN_UNITS, DENSE_HIDDEN_UNITS)\n",
    "        self.linear3 = nn.Linear(DENSE_HIDDEN_UNITS, DENSE_HIDDEN_UNITS)\n",
    "        \n",
    "        self.linear_out = nn.Linear(DENSE_HIDDEN_UNITS, 1)\n",
    "        self.linear_aux_out = nn.Linear(DENSE_HIDDEN_UNITS, num_aux_targets)\n",
    "        \n",
    "    def forward(self, x, lengths=None):\n",
    "        x = x.long()\n",
    "        linear1 = F.relu(self.linear1(x))\n",
    "        linear1 = self.hidden_dropout(linear1)\n",
    "        linear2 = F.relu(self.linear2(linear1))\n",
    "        #SpatialDropout(0.3)\n",
    "        hidden = F.tanh(self.linear3(linear2 + x))\n",
    "        \n",
    "        result = self.linear_out(hidden)\n",
    "        aux_result = self.linear_aux_out(hidden)\n",
    "        \n",
    "        out = torch.cat([result, aux_result], 1)\n",
    "\n",
    "        return out"
   ]
  },
  {
   "cell_type": "code",
   "execution_count": null,
   "metadata": {},
   "outputs": [],
   "source": [
    "def custom_loss(data, targets):\n",
    "    ''' Define custom loss function for weighted BCE on 'target' column '''\n",
    "    ### Original code\n",
    "    bce_loss_1 = nn.BCEWithLogitsLoss(weight=targets[:,1:2])(data[:,:1],targets[:,:1])\n",
    "    bce_loss_2 = nn.BCEWithLogitsLoss()(data[:,1:],targets[:,2:])\n",
    "    #bce_loss_1 = nn.MSELoss()(data[:,:1],targets[:,:1])\n",
    "    #bce_loss_2 = nn.MSELoss()(data[:,1:],targets[:,2:])\n",
    "    return (bce_loss_1 * loss_weight) + bce_loss_2"
   ]
  },
  {
   "cell_type": "code",
   "execution_count": null,
   "metadata": {},
   "outputs": [],
   "source": [
    "def train_model(learn, model_num,output_dim,lr=0.001,\n",
    "                batch_size=512, n_epochs=5):\n",
    "    # use this in inference\n",
    "    #checkpoint_weights = [1,2,4,8,6]\n",
    "    n = len(learn.data.train_dl)\n",
    "    phases = [(TrainingPhase(n).schedule_hp('lr', lr * (0.6**(i)))) for i in range(n_epochs)]\n",
    "    sched = GeneralScheduler(learn, phases)\n",
    "    learn.callbacks.append(sched)\n",
    "    for epoch in range(n_epochs):\n",
    "        learn.fit(1)\n",
    "\n",
    "        # saving the model\n",
    "        model_sin_emb = model.state_dict()\n",
    "        #learn.save('final_model')\n",
    "        torch.save(model_sin_emb, \"stack_dense\" + str(epoch) + \"_\" + str(model_num))"
   ]
  },
  {
   "cell_type": "code",
   "execution_count": null,
   "metadata": {},
   "outputs": [],
   "source": [
    "batch_size = 512\n",
    "train_x_torch = torch.tensor(train_x, dtype=torch.float32)\n",
    "train_y_torch = torch.tensor(train_y, dtype=torch.float32)\n",
    "\n",
    "train_dataset = data.TensorDataset(train_x_torch, lengths, train_y_torch)\n",
    "valid_dataset = data.Subset(train_dataset, indices=[0, 1])\n",
    "\n",
    "train_loader = data.DataLoader(train_dataset, batch_size=batch_size, shuffle=True)\n",
    "valid_loader = data.DataLoader(valid_dataset, batch_size=batch_size, shuffle=False)\n",
    "\n",
    "databunch = DataBunch(train_dl=train_loader, valid_dl=valid_loader, collate_fn=train_collator)"
   ]
  },
  {
   "cell_type": "code",
   "execution_count": null,
   "metadata": {},
   "outputs": [],
   "source": [
    "for model_idx in range(NUM_DENSE_MODELS):\n",
    "    print('Model ', model_idx)\n",
    "    seed_everything(1 + model_idx)\n",
    "    model = DenseNeuralNet(num_aux_targets=6)\n",
    "    learn = Learner(databunch, model, loss_func=custom_loss)\n",
    "    train_model(learn,model_idx,output_dim=7, n_epochs=NUM_DENSE_EPOCHS)"
   ]
  }
 ],
 "metadata": {
  "kernelspec": {
   "display_name": "Python 3",
   "language": "python",
   "name": "python3"
  },
  "language_info": {
   "codemirror_mode": {
    "name": "ipython",
    "version": 3
   },
   "file_extension": ".py",
   "mimetype": "text/x-python",
   "name": "python",
   "nbconvert_exporter": "python",
   "pygments_lexer": "ipython3",
   "version": "3.7.0"
  }
 },
 "nbformat": 4,
 "nbformat_minor": 2
}

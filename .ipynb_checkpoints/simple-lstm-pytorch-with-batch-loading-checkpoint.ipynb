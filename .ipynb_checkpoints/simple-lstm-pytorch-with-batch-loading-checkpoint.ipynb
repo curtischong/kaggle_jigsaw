{
 "cells": [
  {
   "cell_type": "markdown",
   "metadata": {},
   "source": [
    "# Forward"
   ]
  },
  {
   "cell_type": "markdown",
   "metadata": {},
   "source": [
    "Hey all. This is a for of @bminixhofer Kernel. My only addition is to demonstrate the use variable batch size for accelerated training times, and of course I use my picked embeddings which load faster and help with memory management."
   ]
  },
  {
   "cell_type": "markdown",
   "metadata": {},
   "source": [
    "# Preface"
   ]
  },
  {
   "cell_type": "markdown",
   "metadata": {},
   "source": [
    "This kernel is a PyTorch version of the [Simple LSTM kernel](https://www.kaggle.com/thousandvoices/simple-lstm). All credit for architecture and preprocessing goes to @thousandvoices.\n",
    "There is a lot of discussion whether Keras, PyTorch, Tensorflow or the CUDA C API is best. But specifically between the PyTorch and Keras version of the simple LSTM architecture, there are 2 clear advantages of PyTorch:\n",
    "- Speed. The PyTorch version runs about 20 minutes faster.\n",
    "- Determinism. The PyTorch version is fully deterministic. Especially when it gets harder to improve your score later in the competition, determinism is very important.\n",
    "\n",
    "I was surprised to see that PyTorch is that much faster, so I'm not completely sure the steps taken are exactly the same. If you see any difference, we can discuss it in the comments :)\n",
    "\n",
    "The most likely reason the score of this kernel is higher than the @thousandvoices version is that the optimizer is not reinitialized after every epoch and thus the parameter-specific learning rates of Adam are not discarded after every epoch. That is the only difference between the kernels that is intended."
   ]
  },
  {
   "cell_type": "markdown",
   "metadata": {},
   "source": [
    "# Imports & Utility functions"
   ]
  },
  {
   "cell_type": "code",
   "execution_count": 1,
   "metadata": {
    "_cell_guid": "b1076dfc-b9ad-4769-8c92-a6c4dae69d19",
    "_uuid": "8f2839f25d086af736a60e9eeb907d3b93b6e0e5"
   },
   "outputs": [
    {
     "name": "stderr",
     "output_type": "stream",
     "text": [
      "Using TensorFlow backend.\n"
     ]
    }
   ],
   "source": [
    "import numpy as np\n",
    "import pandas as pd\n",
    "import os, time, gc, pickle, random\n",
    "from tqdm._tqdm_notebook import tqdm_notebook as tqdm\n",
    "from keras.preprocessing import text, sequence\n",
    "import torch\n",
    "from torch import nn\n",
    "from torch.utils import data\n",
    "from torch.nn import functional as F"
   ]
  },
  {
   "cell_type": "code",
   "execution_count": 2,
   "metadata": {},
   "outputs": [],
   "source": [
    "# disable progress bars when submitting\n",
    "def is_interactive():\n",
    "    return 'SHLVL' not in os.environ\n",
    "\n",
    "if not is_interactive():\n",
    "    def nop(it, *a, **k):\n",
    "        return it\n",
    "\n",
    "    tqdm = nop"
   ]
  },
  {
   "cell_type": "code",
   "execution_count": 3,
   "metadata": {},
   "outputs": [],
   "source": [
    "def seed_everything(seed=1234):\n",
    "    random.seed(seed)\n",
    "    os.environ['PYTHONHASHSEED'] = str(seed)\n",
    "    np.random.seed(seed)\n",
    "    torch.manual_seed(seed)\n",
    "    torch.cuda.manual_seed(seed)\n",
    "    torch.backends.cudnn.deterministic = True\n",
    "seed_everything()"
   ]
  },
  {
   "cell_type": "code",
   "execution_count": 4,
   "metadata": {},
   "outputs": [],
   "source": [
    "CRAWL_EMBEDDING_PATH = '../input/pickled-crawl300d2m-for-kernel-competitions/crawl-300d-2M.pkl'\n",
    "GLOVE_EMBEDDING_PATH = '../input/pickled-glove840b300d-for-10sec-loading/glove.840B.300d.pkl'\n",
    "\n",
    "NUM_MODELS = 2\n",
    "LSTM_UNITS = 128\n",
    "DENSE_HIDDEN_UNITS = 4 * LSTM_UNITS\n",
    "MAX_LEN = 220"
   ]
  },
  {
   "cell_type": "code",
   "execution_count": 5,
   "metadata": {
    "_cell_guid": "79c7e3d0-c299-4dcb-8224-4455121ee9b0",
    "_uuid": "d629ff2d2480ee46fbb7e2d37f6b5fab8052498a"
   },
   "outputs": [],
   "source": [
    "def build_matrix(word_index, emb_path, unknown_token='unknown'):\n",
    "    with open(emb_path, 'rb') as fp:\n",
    "        embedding_index = pickle.load(fp)\n",
    "    \n",
    "    # TODO: Build random token instead of using unknown\n",
    "    unknown_token = embedding_index[unknown_token].copy()\n",
    "    embedding_matrix = np.zeros((len(word_index) + 1, 300))\n",
    "    unknown_words = []\n",
    "    \n",
    "    for word, i in word_index.items():\n",
    "        try:\n",
    "            embedding_matrix[i] = embedding_index[word].copy()\n",
    "        except KeyError:\n",
    "            embedding_matrix[i] = unknown_token\n",
    "            unknown_words.append(word)\n",
    "            \n",
    "    del embedding_index; gc.collect()\n",
    "    return embedding_matrix, unknown_words"
   ]
  },
  {
   "cell_type": "code",
   "execution_count": 6,
   "metadata": {},
   "outputs": [],
   "source": [
    "class SpatialDropout(nn.Dropout2d):\n",
    "    def forward(self, x):\n",
    "        x = x.unsqueeze(2)    # (N, T, 1, K)\n",
    "        x = x.permute(0, 3, 2, 1)  # (N, K, 1, T)\n",
    "        x = super(SpatialDropout, self).forward(x)  # (N, K, 1, T), some features are masked\n",
    "        x = x.permute(0, 3, 2, 1)  # (N, T, 1, K)\n",
    "        x = x.squeeze(2)  # (N, T, K)\n",
    "        return x\n",
    "    \n",
    "class NeuralNet(nn.Module):\n",
    "    def __init__(self, embedding_matrix, num_aux_targets):\n",
    "        super(NeuralNet, self).__init__()\n",
    "        embed_size = embedding_matrix.shape[1]\n",
    "        \n",
    "        self.embedding = nn.Embedding(max_features, embed_size)\n",
    "        self.embedding.weight = nn.Parameter(torch.tensor(embedding_matrix, dtype=torch.float32))\n",
    "        self.embedding.weight.requires_grad = False\n",
    "        self.embedding_dropout = SpatialDropout(0.3)\n",
    "        \n",
    "        self.lstm1 = nn.LSTM(embed_size, LSTM_UNITS, bidirectional=True, batch_first=True)\n",
    "        self.lstm2 = nn.LSTM(LSTM_UNITS * 2, LSTM_UNITS, bidirectional=True, batch_first=True)\n",
    "    \n",
    "        self.linear1 = nn.Linear(DENSE_HIDDEN_UNITS, DENSE_HIDDEN_UNITS)\n",
    "        self.linear2 = nn.Linear(DENSE_HIDDEN_UNITS, DENSE_HIDDEN_UNITS)\n",
    "        \n",
    "        self.linear_out = nn.Linear(DENSE_HIDDEN_UNITS, 1)\n",
    "        self.linear_aux_out = nn.Linear(DENSE_HIDDEN_UNITS, num_aux_targets)\n",
    "        \n",
    "    def forward(self, x):\n",
    "        h_embedding = self.embedding(x)\n",
    "        h_embedding = self.embedding_dropout(h_embedding)\n",
    "        \n",
    "        h_lstm1, _ = self.lstm1(h_embedding)\n",
    "        h_lstm2, _ = self.lstm2(h_lstm1)\n",
    "        \n",
    "        # global average pooling\n",
    "        avg_pool = torch.mean(h_lstm2, 1)\n",
    "        # global max pooling\n",
    "        max_pool, _ = torch.max(h_lstm2, 1)\n",
    "        \n",
    "        h_conc = torch.cat((max_pool, avg_pool), 1)\n",
    "        h_conc_linear1  = F.relu(self.linear1(h_conc))\n",
    "        h_conc_linear2  = F.relu(self.linear2(h_conc))\n",
    "        \n",
    "        hidden = h_conc + h_conc_linear1 + h_conc_linear2\n",
    "        \n",
    "        result = self.linear_out(hidden)\n",
    "        aux_result = self.linear_aux_out(hidden)\n",
    "        out = torch.cat([result, aux_result], 1)\n",
    "        \n",
    "        return out"
   ]
  },
  {
   "cell_type": "code",
   "execution_count": 7,
   "metadata": {},
   "outputs": [],
   "source": [
    "def preprocess(data):\n",
    "    '''\n",
    "    Credit goes to https://www.kaggle.com/gpreda/jigsaw-fast-compact-solution\n",
    "    '''\n",
    "    punct = \"/-'?!.,#$%\\'()*+-/:;<=>@[\\\\]^_`{|}~`\" + '\"\"“”’' + '∞θ÷α•à−β∅³π‘₹´°£€\\×™√²—–&'\n",
    "    def clean_special_chars(text, punct):\n",
    "        for p in punct:\n",
    "            text = text.replace(p, ' ')\n",
    "        return text\n",
    "\n",
    "    data = data.astype(str).apply(lambda x: clean_special_chars(x, punct))\n",
    "    return data"
   ]
  },
  {
   "cell_type": "markdown",
   "metadata": {},
   "source": [
    "# Preprocessing"
   ]
  },
  {
   "cell_type": "code",
   "execution_count": 8,
   "metadata": {},
   "outputs": [],
   "source": [
    "train = pd.read_csv('../input/jigsaw-unintended-bias-in-toxicity-classification/train.csv')\n",
    "test = pd.read_csv('../input/jigsaw-unintended-bias-in-toxicity-classification/test.csv')\n",
    "\n",
    "x_test = preprocess(test['comment_text'])\n",
    "x_train = preprocess(train['comment_text'])\n",
    "\n",
    "y_train = np.where(train['target'] >= 0.5, 1, 0)\n",
    "y_aux_train = train[['target', 'severe_toxicity', 'obscene', 'identity_attack', 'insult', 'threat']].values"
   ]
  },
  {
   "cell_type": "code",
   "execution_count": 9,
   "metadata": {},
   "outputs": [],
   "source": [
    "tokenizer = text.Tokenizer()\n",
    "tokenizer.fit_on_texts(list(x_train) + list(x_test))\n",
    "\n",
    "x_train = tokenizer.texts_to_sequences(x_train)\n",
    "x_test  = tokenizer.texts_to_sequences(x_test)\n",
    "x_train_lens = [len(i) for i in x_train]\n",
    "x_test_lens  = [len(i) for i in x_test]"
   ]
  },
  {
   "cell_type": "code",
   "execution_count": 10,
   "metadata": {},
   "outputs": [
    {
     "data": {
      "text/plain": [
       "327576"
      ]
     },
     "execution_count": 10,
     "metadata": {},
     "output_type": "execute_result"
    }
   ],
   "source": [
    "max_features = None\n",
    "max_features = max_features or len(tokenizer.word_index) + 1\n",
    "max_features"
   ]
  },
  {
   "cell_type": "code",
   "execution_count": 11,
   "metadata": {},
   "outputs": [
    {
     "name": "stdout",
     "output_type": "stream",
     "text": [
      "n unknown words (crawl):  174141\n"
     ]
    }
   ],
   "source": [
    "crawl_matrix, unknown_words_crawl = build_matrix(tokenizer.word_index, emb_path=CRAWL_EMBEDDING_PATH, unknown_token='unknown')\n",
    "print('n unknown words (crawl): ', len(unknown_words_crawl))"
   ]
  },
  {
   "cell_type": "code",
   "execution_count": 12,
   "metadata": {},
   "outputs": [
    {
     "name": "stdout",
     "output_type": "stream",
     "text": [
      "n unknown words (glove):  170837\n"
     ]
    }
   ],
   "source": [
    "glove_matrix, unknown_words_glove = build_matrix(tokenizer.word_index, emb_path=GLOVE_EMBEDDING_PATH, unknown_token='unknown')\n",
    "print('n unknown words (glove): ', len(unknown_words_glove))"
   ]
  },
  {
   "cell_type": "code",
   "execution_count": 13,
   "metadata": {},
   "outputs": [
    {
     "data": {
      "text/plain": [
       "0"
      ]
     },
     "execution_count": 13,
     "metadata": {},
     "output_type": "execute_result"
    }
   ],
   "source": [
    "embedding_matrix = np.concatenate([crawl_matrix, glove_matrix], axis=-1)\n",
    "embedding_matrix.shape\n",
    "\n",
    "del crawl_matrix\n",
    "del glove_matrix\n",
    "gc.collect()"
   ]
  },
  {
   "cell_type": "markdown",
   "metadata": {},
   "source": [
    "# Batching"
   ]
  },
  {
   "cell_type": "code",
   "execution_count": 14,
   "metadata": {},
   "outputs": [],
   "source": [
    "class TextDataset(data.Dataset):\n",
    "    def __init__(self, text, lens, y=None):\n",
    "        self.text = text\n",
    "        self.lens = lens\n",
    "        self.y = y\n",
    "\n",
    "    def __len__(self):\n",
    "        return len(self.lens)\n",
    "\n",
    "    def __getitem__(self, idx):\n",
    "        if self.y is None:\n",
    "            return self.text[idx], self.lens[idx]\n",
    "        return self.text[idx], self.lens[idx], self.y[idx]"
   ]
  },
  {
   "cell_type": "code",
   "execution_count": 15,
   "metadata": {},
   "outputs": [],
   "source": [
    "class Collator(object):\n",
    "    def __init__(self,test=False,percentile=100):\n",
    "        self.test = test\n",
    "        self.percentile = percentile\n",
    "        \n",
    "    def __call__(self, batch):\n",
    "        global MAX_LEN\n",
    "        \n",
    "        if self.test:\n",
    "            texts, lens = zip(*batch)\n",
    "        else:\n",
    "            texts, lens, target = zip(*batch)\n",
    "\n",
    "        lens = np.array(lens)\n",
    "        max_len = min(int(np.percentile(lens, self.percentile)), MAX_LEN)\n",
    "        texts = torch.tensor(sequence.pad_sequences(texts, maxlen=max_len), dtype=torch.long).cuda()\n",
    "        \n",
    "        if self.test:\n",
    "            return texts\n",
    "        \n",
    "        return texts, torch.tensor(target, dtype=torch.float32).cuda()"
   ]
  },
  {
   "cell_type": "code",
   "execution_count": 16,
   "metadata": {},
   "outputs": [],
   "source": [
    "final_y_train = np.hstack([y_train[:, np.newaxis], y_aux_train])\n",
    "\n",
    "train_collate = Collator(percentile=96)\n",
    "train_dataset = TextDataset(x_train, x_train_lens, final_y_train)\n",
    "train_loader  = torch.utils.data.DataLoader(train_dataset, batch_size=512, shuffle=True, collate_fn=train_collate)\n",
    "\n",
    "test_collate = Collator(test=True)\n",
    "test_dataset = TextDataset(x_test, x_test_lens)\n",
    "test_loader  = torch.utils.data.DataLoader(test_dataset, batch_size=512, shuffle=False , collate_fn=test_collate)\n",
    "\n",
    "# del y_train, y_aux_train; gc.collect()"
   ]
  },
  {
   "cell_type": "markdown",
   "metadata": {},
   "source": [
    "# Training"
   ]
  },
  {
   "cell_type": "code",
   "execution_count": 17,
   "metadata": {},
   "outputs": [],
   "source": [
    "def sigmoid(x):\n",
    "    return 1 / (1 + np.exp(-x))\n",
    "\n",
    "def train_model(model, train_loader, test_loader, loss_fn, output_dim, lr=0.001,\n",
    "                batch_size=512, n_epochs=4,\n",
    "                enable_checkpoint_ensemble=True):\n",
    "    param_lrs = [{'params': param, 'lr': lr} for param in model.parameters()]\n",
    "    optimizer = torch.optim.Adam(param_lrs, lr=lr)\n",
    "\n",
    "    scheduler = torch.optim.lr_scheduler.LambdaLR(optimizer, lambda epoch: 0.6 ** epoch)\n",
    "    \n",
    "    all_test_preds = []\n",
    "    checkpoint_weights = [2 ** epoch for epoch in range(n_epochs)]\n",
    "    \n",
    "    for epoch in range(n_epochs):\n",
    "        start_time = time.time()\n",
    "        \n",
    "        scheduler.step()\n",
    "        \n",
    "        model.train()\n",
    "        avg_loss = 0.\n",
    "        \n",
    "        for step, (seq_batch, y_batch) in enumerate(tqdm(train_loader, disable=False)):\n",
    "            y_pred = model(seq_batch)            \n",
    "            loss = loss_fn(y_pred, y_batch)\n",
    "\n",
    "            optimizer.zero_grad()\n",
    "            loss.backward()\n",
    "\n",
    "            optimizer.step()\n",
    "            avg_loss += loss.item() #/ len(train_loader)\n",
    "            \n",
    "            if step > 0 and step % 100 == 0:\n",
    "                print(step, avg_loss / step)\n",
    "            \n",
    "        model.eval()\n",
    "        test_preds = np.zeros((len(test), output_dim))\n",
    "    \n",
    "        for step, seq_batch in enumerate(test_loader):\n",
    "            y_pred = sigmoid(model(seq_batch).detach().cpu().numpy())\n",
    "            test_preds[step * batch_size:step * batch_size + y_pred.shape[0], :] = y_pred[:,:1]\n",
    "\n",
    "        all_test_preds.append(test_preds)\n",
    "        elapsed_time = time.time() - start_time\n",
    "        print('Epoch {}/{} \\t loss={:.4f} \\t time={:.2f}s'.format(\n",
    "              epoch + 1, n_epochs, avg_loss / len(train_loader), elapsed_time))\n",
    "\n",
    "    if enable_checkpoint_ensemble:\n",
    "        test_preds = np.average(all_test_preds, weights=checkpoint_weights, axis=0)    \n",
    "    else:\n",
    "        test_preds = all_test_preds[-1]\n",
    "        \n",
    "    return test_preds"
   ]
  },
  {
   "cell_type": "code",
   "execution_count": 18,
   "metadata": {},
   "outputs": [
    {
     "name": "stdout",
     "output_type": "stream",
     "text": [
      "Model  0\n",
      "100 0.17599205881357194\n",
      "200 0.14735348045825958\n",
      "300 0.13705534850557646\n",
      "400 0.13151127904653548\n",
      "500 0.12778533171117307\n",
      "600 0.12496845533450444\n",
      "700 0.12275159650615283\n",
      "800 0.12092125616036356\n",
      "900 0.11962096645600266\n",
      "1000 0.11852716782689095\n",
      "1100 0.1176380478726192\n",
      "1200 0.11682080450157324\n",
      "1300 0.11620925187491453\n",
      "1400 0.115675560411598\n",
      "1500 0.11505571649968624\n",
      "1600 0.11459490252658724\n",
      "1700 0.1141112091918202\n",
      "1800 0.11375978178862069\n",
      "1900 0.11347458054752727\n",
      "2000 0.11313899296149611\n",
      "2100 0.11279299733184633\n",
      "2200 0.1124738976190036\n",
      "2300 0.11214464577643768\n",
      "2400 0.11188077045604587\n",
      "2500 0.11162993187904358\n",
      "2600 0.1113823172937219\n",
      "2700 0.11113738440529064\n",
      "2800 0.11087914923472064\n",
      "2900 0.11071699179195124\n",
      "3000 0.11051295673847199\n",
      "3100 0.11034219605547767\n",
      "3200 0.11017758859787136\n",
      "3300 0.11000111517806847\n",
      "3400 0.10987047219539389\n",
      "3500 0.10971845516136715\n",
      "Epoch 1/4 \t loss=0.1097 \t time=465.87s\n",
      "100 0.10467635847628116\n",
      "200 0.10372070185840129\n",
      "300 0.10397574119269848\n",
      "400 0.10406858123838901\n",
      "500 0.10415713647007942\n",
      "600 0.10417828002323706\n",
      "700 0.10390797493713243\n",
      "800 0.10402080637402833\n",
      "900 0.10400532835059696\n",
      "1000 0.10402743007242679\n",
      "1100 0.10381959153169935\n",
      "1200 0.10381861117358009\n",
      "1300 0.10384056336604632\n",
      "1400 0.10380899583654744\n",
      "1500 0.10372604835530122\n",
      "1600 0.10375001136679202\n",
      "1700 0.10373393684625626\n",
      "1800 0.10377017181366682\n",
      "1900 0.10375636276053755\n",
      "2000 0.103753472533077\n",
      "2100 0.10371953173407486\n",
      "2200 0.10374763786454093\n",
      "2300 0.10376034019433934\n",
      "2400 0.10373807001238068\n",
      "2500 0.10370943844020367\n",
      "2600 0.10368676479332722\n",
      "2700 0.10366061740727336\n",
      "2800 0.10370332532429269\n",
      "2900 0.10368105115818567\n",
      "3000 0.1036429355914394\n",
      "3100 0.10359492099092853\n",
      "3200 0.1035895420354791\n",
      "3300 0.10358254670871027\n",
      "3400 0.1035883739459164\n",
      "3500 0.10358495500470911\n",
      "Epoch 2/4 \t loss=0.1035 \t time=466.34s\n",
      "100 0.10437294393777848\n",
      "200 0.10312095127999782\n",
      "300 0.10301236855487028\n",
      "400 0.1029032058827579\n",
      "500 0.10267791104316712\n",
      "600 0.10251759088287751\n",
      "700 0.10245949491858482\n",
      "800 0.10234388884156942\n",
      "900 0.10226024606161647\n",
      "1000 0.10227707984298468\n",
      "1100 0.10226896527815948\n",
      "1200 0.10228539538259307\n",
      "1300 0.10218246853695466\n",
      "1400 0.10220181077718735\n",
      "1500 0.10215472376843293\n",
      "1600 0.10223474944941699\n",
      "1700 0.10223617239910014\n",
      "1800 0.10221232442806165\n",
      "1900 0.10222915366684136\n",
      "2000 0.10219342113286257\n",
      "2100 0.10220646962523461\n",
      "2200 0.10221373991871421\n",
      "2300 0.10221265509724617\n",
      "2400 0.10215284367091954\n",
      "2500 0.10214463621079922\n",
      "2600 0.10210519749098099\n",
      "2700 0.10209960798698443\n",
      "2800 0.10211257559114269\n",
      "2900 0.10211643278598785\n",
      "3000 0.10210253152499596\n",
      "3100 0.10212672674607846\n",
      "3200 0.10211955708218738\n",
      "3300 0.10214132449617891\n",
      "3400 0.10211496118894395\n",
      "3500 0.10214946845386709\n",
      "Epoch 3/4 \t loss=0.1021 \t time=466.41s\n",
      "100 0.10337127268314361\n",
      "200 0.1028467371687293\n",
      "300 0.1022008453309536\n",
      "400 0.10187332525849342\n",
      "500 0.10184919738769531\n",
      "600 0.10177968146900336\n",
      "700 0.1015737521648407\n",
      "800 0.1017114397045225\n",
      "900 0.1015841499219338\n",
      "1000 0.10157401814311742\n",
      "1100 0.10156548183072697\n",
      "1200 0.10150343564649424\n",
      "1300 0.10148006203082892\n",
      "1400 0.10149340120277235\n",
      "1500 0.10146883049607278\n",
      "1600 0.10135756850708276\n",
      "1700 0.10141798522104235\n",
      "1800 0.10140354835324818\n",
      "1900 0.10142775172857862\n",
      "2000 0.1013855040371418\n",
      "2100 0.10139780696658861\n",
      "2200 0.1013553444228389\n",
      "2300 0.10133554040413836\n",
      "2400 0.10132273469120263\n",
      "2500 0.10130119013786316\n",
      "2600 0.10126762539721453\n",
      "2700 0.10125551766267529\n",
      "2800 0.10120739582127758\n",
      "2900 0.10117614037260927\n",
      "3000 0.10121390134096146\n",
      "3100 0.10122693203629986\n",
      "3200 0.10123458358924836\n",
      "3300 0.10125098569149321\n",
      "3400 0.10124244055546382\n",
      "3500 0.10126019285406385\n",
      "Epoch 4/4 \t loss=0.1012 \t time=465.48s\n",
      "\n",
      "Model  1\n",
      "100 0.1766752701252699\n",
      "200 0.14877953380346298\n",
      "300 0.13826746719578903\n",
      "400 0.13220292501151562\n",
      "500 0.12833266457915307\n",
      "600 0.12520661924034357\n",
      "700 0.12309980863971369\n",
      "800 0.121393011668697\n",
      "900 0.12005217915607823\n",
      "1000 0.11889740525186061\n",
      "1100 0.11792694558474151\n",
      "1200 0.11704204581677914\n",
      "1300 0.11632116787708723\n",
      "1400 0.11579235168440001\n",
      "1500 0.11528462277849515\n",
      "1600 0.11481372550129891\n",
      "1700 0.11435390142395216\n",
      "1800 0.11397873740229342\n",
      "1900 0.11354552556417491\n",
      "2000 0.11321152015030383\n",
      "2100 0.11286564510493051\n",
      "2200 0.11252512752671133\n",
      "2300 0.11228165589272976\n",
      "2400 0.11204596681209902\n",
      "2500 0.11180741252303124\n",
      "2600 0.1115699149066439\n",
      "2700 0.11135192605356375\n",
      "2800 0.11112121688734208\n",
      "2900 0.11094331696629524\n",
      "3000 0.11072473811358213\n",
      "3100 0.11051885035730177\n",
      "3200 0.11034891571151093\n",
      "3300 0.11018789555764559\n",
      "3400 0.11000903495532625\n",
      "3500 0.10988154923064368\n",
      "Epoch 1/4 \t loss=0.1098 \t time=467.05s\n",
      "100 0.1038999055325985\n",
      "200 0.10391455590724945\n",
      "300 0.10410594120621681\n",
      "400 0.10437137050554156\n",
      "500 0.10409071882069111\n",
      "600 0.10413959554086129\n",
      "700 0.10389998037900243\n",
      "800 0.1039025927707553\n",
      "900 0.10389501280254788\n",
      "1000 0.10391755270212889\n",
      "1100 0.10381188154220582\n",
      "1200 0.10390990487610301\n",
      "1300 0.10389956508118373\n",
      "1400 0.10384944022233997\n",
      "1500 0.10383025580147902\n",
      "1600 0.1038497566524893\n",
      "1700 0.1038715309518225\n",
      "1800 0.10385388966649771\n",
      "1900 0.10389759517421848\n",
      "2000 0.10388560856878758\n",
      "2100 0.10382035735462393\n",
      "2200 0.10378964800048958\n",
      "2300 0.10374352896990983\n",
      "2400 0.10370961232421298\n",
      "2500 0.10367802193164825\n",
      "2600 0.10366004107663265\n",
      "2700 0.10364047158371519\n",
      "2800 0.1036229304383908\n",
      "2900 0.10365973556093101\n",
      "3000 0.10363576485961676\n",
      "3100 0.10364159512904382\n",
      "3200 0.10363939159316943\n",
      "3300 0.1036373914100907\n",
      "3400 0.10358491415048347\n",
      "3500 0.10358596106937953\n",
      "Epoch 2/4 \t loss=0.1036 \t time=465.86s\n",
      "100 0.10336434975266456\n",
      "200 0.10295821942389011\n",
      "300 0.10256536106268564\n",
      "400 0.10246029496192932\n",
      "500 0.10217935740947723\n",
      "600 0.10216702713320652\n",
      "700 0.10217417878764017\n",
      "800 0.10220593065954744\n",
      "900 0.1023461859424909\n",
      "1000 0.10224332994222642\n",
      "1100 0.10216373125260526\n",
      "1200 0.10224079611400763\n",
      "1300 0.10221042870902099\n",
      "1400 0.10213568075959172\n",
      "1500 0.10214804734786352\n",
      "1600 0.10218393450137228\n",
      "1700 0.10215731685652453\n",
      "1800 0.1021861296519637\n",
      "1900 0.10220429840840792\n",
      "2000 0.102216756824404\n",
      "2100 0.10221628123096058\n",
      "2200 0.10223578527569771\n",
      "2300 0.10223979814221029\n",
      "2400 0.10228897385609646\n",
      "2500 0.10229258994162083\n",
      "2600 0.10228030712845233\n",
      "2700 0.10227922891853032\n",
      "2800 0.10222640280212675\n",
      "2900 0.10220219056924869\n",
      "3000 0.1022100161810716\n",
      "3100 0.10221537615022351\n",
      "3200 0.10218347339425236\n",
      "3300 0.10217143366056862\n",
      "3400 0.10213176866226337\n",
      "3500 0.10217013670504094\n",
      "Epoch 3/4 \t loss=0.1021 \t time=466.94s\n",
      "100 0.1023387423157692\n",
      "200 0.10202206563204527\n",
      "300 0.10148737999300161\n",
      "400 0.10165602622553706\n",
      "500 0.10158530309796333\n",
      "600 0.10148368902504444\n",
      "700 0.10133196739213807\n",
      "800 0.10125677328556776\n",
      "900 0.10130782570275995\n",
      "1000 0.10118116099387407\n",
      "1100 0.10119935471903194\n",
      "1200 0.10116407770663499\n",
      "1300 0.10120740072085307\n",
      "1400 0.10121312626770565\n",
      "1500 0.10118758149445056\n",
      "1600 0.10119896433316171\n",
      "1700 0.10121430829605635\n",
      "1800 0.10122975202484263\n",
      "1900 0.10124177859017723\n",
      "2000 0.10122431891411543\n",
      "2100 0.10125381102519376\n",
      "2200 0.10126078685914928\n",
      "2300 0.101263187556811\n",
      "2400 0.10127982956667742\n",
      "2500 0.1011844625979662\n",
      "2600 0.10122603600414899\n",
      "2700 0.10123781297769811\n",
      "2800 0.10122441910473363\n",
      "2900 0.10121863236715054\n",
      "3000 0.10125256060312192\n",
      "3100 0.1012353155016899\n",
      "3200 0.10122745090397074\n",
      "3300 0.10123824772961212\n",
      "3400 0.10124052906518473\n",
      "3500 0.10122777624215398\n",
      "Epoch 4/4 \t loss=0.1012 \t time=465.75s\n",
      "\n"
     ]
    }
   ],
   "source": [
    "aux_size = final_y_train.shape[-1] - 1  # targets\n",
    "\n",
    "all_test_preds = []\n",
    "for model_idx in range(NUM_MODELS):\n",
    "    print('Model ', model_idx)\n",
    "    seed_everything(1234 + model_idx)\n",
    "    \n",
    "    model = NeuralNet(embedding_matrix, aux_size)\n",
    "    model.cuda()\n",
    "    \n",
    "    test_preds = train_model(model, train_loader, test_loader, output_dim=1, loss_fn=nn.BCEWithLogitsLoss(reduction='mean'))\n",
    "    all_test_preds.append(test_preds)\n",
    "    print()"
   ]
  },
  {
   "cell_type": "code",
   "execution_count": 19,
   "metadata": {},
   "outputs": [],
   "source": [
    "submission = pd.DataFrame.from_dict({\n",
    "    'id': test['id'],\n",
    "    'prediction': np.mean(all_test_preds, axis=0)[:, 0]\n",
    "})\n",
    "\n",
    "submission.to_csv('submission.csv', index=False)"
   ]
  },
  {
   "cell_type": "markdown",
   "metadata": {},
   "source": [
    "Note that the solution is not validated in this kernel. So for tuning anything, you should build a validation framework using e. g. KFold CV. If you just check what works best by submitting, you are very likely to overfit to the public LB."
   ]
  },
  {
   "cell_type": "markdown",
   "metadata": {},
   "source": [
    "# Ways to improve this kernel"
   ]
  },
  {
   "cell_type": "markdown",
   "metadata": {},
   "source": [
    "This kernel is just a simple baseline kernel, so there are many ways to improve it. Some ideas to get you started:\n",
    "- ~~Use bucketing to train faster and fit more networks into the two hours. The winning team of the quora competition successfully used bucketing to drastically reduce the time it took to train RNNs. An excerpt from their [solution summary](https://www.kaggle.com/c/quora-insincere-questions-classification/discussion/80568#latest-487092):~~\n",
    "- Add a contraction mapping. E. g. mapping \"is'nt\" to \"is not\" can help the network because \"not\" is explicitly mentioned. They were very popular in the recent quora competition, see for example [this kernel](https://www.kaggle.com/theoviel/improve-your-score-with-some-text-preprocessing).\n",
    "- Try to reduce the number of words that are not found in the embeddings. At the moment, around 170k words are not found. We can take some steps to decrease this amount, for example trying to find a vector for a processed (capitalized, stemmed, ...) version of the word when the vector for the regular word can not be found. See the [3rd place solution](https://www.kaggle.com/wowfattie/3rd-place) of the quora competition for an excellent implementation of this.\n",
    "- Try cyclic learning rate (CLR). I have found CLR to almost always improve my network recently compared to the default parameters for Adam. In this case, we are already using a learning rate scheduler, so this might not be the case. But it is still worth to try it out. See for example my [my other PyTorch kernel](https://www.kaggle.com/bminixhofer/deterministic-neural-networks-using-pytorch) for an implementation of CLR in PyTorch.\n",
    "\n",
    "> We aimed at combining as many models as possible. To do this, we needed to improve runtime and the most important thing to achieve this was the following. We do not pad sequences to the same length based on the whole data, but just on a batch level. That means we conduct padding and truncation on the data generator level for each batch separately, so that length of the sentences in a batch can vary in size. Additionally, we further improved this by not truncating based on the length of the longest sequence in the batch, but based on the 95% percentile of lengths within the sequence. This improved runtime heavily and kept accuracy quite robust on single model level, and improved it by being able to average more models.\n",
    "\n",
    "- Try a (weighted) average of embeddings instead of concatenating them. A 600d vector for each word is a lot, it might work better to average them instead. See [this paper](https://www.aclweb.org/anthology/N18-2031) for why this even works.\n",
    "- Limit the maximum number of words used to train the NN. At the moment, there is no limit set to the maximum number of words in the tokenizer, so we use every word that occurs in the training data, even if it is only mentioned once. This could lead to overfitting so it might be better to limit the maximum number of words to e. g. 100k.\n",
    "\n",
    "Thanks for reading. Good luck and have fun in this competition!"
   ]
  },
  {
   "cell_type": "markdown",
   "metadata": {},
   "source": [
    "Happy Kaggling!"
   ]
  },
  {
   "cell_type": "code",
   "execution_count": 20,
   "metadata": {},
   "outputs": [],
   "source": []
  }
 ],
 "metadata": {
  "kernelspec": {
   "display_name": "Python 3",
   "language": "python",
   "name": "python3"
  },
  "language_info": {
   "codemirror_mode": {
    "name": "ipython",
    "version": 3
   },
   "file_extension": ".py",
   "mimetype": "text/x-python",
   "name": "python",
   "nbconvert_exporter": "python",
   "pygments_lexer": "ipython3",
   "version": "3.6.4"
  }
 },
 "nbformat": 4,
 "nbformat_minor": 1
}
